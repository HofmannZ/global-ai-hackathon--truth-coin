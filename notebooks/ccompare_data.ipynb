{
 "cells": [
  {
   "cell_type": "code",
   "execution_count": 2,
   "metadata": {
    "collapsed": false
   },
   "outputs": [
    {
     "name": "stderr",
     "output_type": "stream",
     "text": [
      "/Users/pokutnik/anaconda3/envs/ekans/lib/python2.7/site-packages/matplotlib/font_manager.py:273: UserWarning: Matplotlib is building the font cache using fc-list. This may take a moment.\n",
      "  warnings.warn('Matplotlib is building the font cache using fc-list. This may take a moment.')\n"
     ]
    }
   ],
   "source": [
    "import requests\n",
    "import pandas as pd\n",
    "import numpy as np\n",
    "import seaborn as sns\n",
    "%mathplotlib inline"
   ]
  },
  {
   "cell_type": "code",
   "execution_count": 25,
   "metadata": {
    "collapsed": true
   },
   "outputs": [],
   "source": [
    "url = 'https://www.cryptocompare.com/api/forum/get/posts/?tId=1182&tPosts=200'\n",
    "next_url_f = 'https://www.cryptocompare.com/api/forum/get/posts/?lId={}&tId=1182&tPosts=20'\n",
    "resp = requests.get(url)\n",
    "r = resp.json()\n",
    "pages = []"
   ]
  },
  {
   "cell_type": "code",
   "execution_count": 26,
   "metadata": {
    "collapsed": false
   },
   "outputs": [
    {
     "name": "stdout",
     "output_type": "stream",
     "text": [
      "61203\n",
      "60509\n",
      "59757\n",
      "59009\n",
      "58364\n",
      "57063\n",
      "56196\n",
      "55054\n",
      "54464\n",
      "53813\n",
      "53232\n",
      "52227\n",
      "51357\n",
      "50332\n",
      "49227\n",
      "48279\n",
      "47702\n",
      "47385\n",
      "47108\n",
      "46774\n",
      "46260\n",
      "45816\n",
      "45609\n",
      "45047\n",
      "44011\n",
      "42989\n",
      "41859\n",
      "40636\n",
      "39857\n",
      "39012\n",
      "38150\n",
      "37771\n",
      "37286\n",
      "36943\n",
      "36437\n",
      "35914\n",
      "34762\n",
      "34327\n",
      "33647\n",
      "32829\n",
      "31708\n",
      "31132\n",
      "30667\n",
      "30348\n",
      "30077\n",
      "29609\n",
      "29025\n",
      "28835\n",
      "28478\n",
      "27932\n",
      "27030\n",
      "26356\n",
      "25968\n",
      "25785\n",
      "25565\n",
      "25392\n",
      "25282\n",
      "25117\n",
      "24917\n",
      "24720\n",
      "24509\n",
      "24337\n",
      "24053\n",
      "23898\n",
      "23647\n",
      "23139\n",
      "22760\n",
      "22584\n",
      "22521\n",
      "22380\n",
      "22207\n",
      "22090\n",
      "21872\n",
      "21711\n",
      "21446\n",
      "21243\n",
      "21069\n",
      "20977\n",
      "20639\n",
      "20547\n",
      "20416\n",
      "20324\n",
      "20178\n",
      "20049\n",
      "19752\n",
      "19510\n",
      "19318\n",
      "19151\n",
      "19036\n",
      "18883\n",
      "18787\n",
      "18715\n",
      "18641\n",
      "18566\n",
      "18431\n",
      "18355\n",
      "18214\n",
      "18081\n",
      "17986\n",
      "17910\n",
      "17700\n",
      "17434\n",
      "17038\n",
      "16770\n",
      "16583\n",
      "16462\n",
      "16168\n",
      "15768\n",
      "15462\n",
      "14792\n",
      "14133\n",
      "13797\n",
      "13498\n",
      "13250\n",
      "12784\n",
      "12172\n",
      "11972\n",
      "11722\n",
      "11528\n",
      "11311\n",
      "11152\n",
      "10851\n",
      "10157\n",
      "9887\n",
      "9753\n",
      "9392\n",
      "8859\n",
      "8155\n",
      "7236\n",
      "6248\n",
      "5120\n",
      "4170\n",
      "3921\n",
      "3728\n",
      "3637\n",
      "3482\n",
      "3391\n",
      "2149\n"
     ]
    }
   ],
   "source": [
    "while r['MoreAvailable']:\n",
    "        pages.extend(r['PostArray'])\n",
    "        last_id = r['PostArray'][-1]['Id']\n",
    "        print last_id\n",
    "        resp = requests.get(next_url_f.format(last_id))\n",
    "        r = resp.json()\n",
    "        "
   ]
  },
  {
   "cell_type": "code",
   "execution_count": 41,
   "metadata": {
    "collapsed": false
   },
   "outputs": [
    {
     "data": {
      "text/plain": [
       "2940"
      ]
     },
     "execution_count": 41,
     "metadata": {},
     "output_type": "execute_result"
    }
   ],
   "source": [
    "len(pages)"
   ]
  },
  {
   "cell_type": "code",
   "execution_count": null,
   "metadata": {
    "collapsed": false
   },
   "outputs": [],
   "source": []
  },
  {
   "cell_type": "code",
   "execution_count": 45,
   "metadata": {
    "collapsed": false
   },
   "outputs": [],
   "source": [
    "ccompare = pd.io.json.json_normalize(pages)\n",
    "ts = map(lambda x: int(x['Timestamp']), pages)\n",
    "ccompare['Timestamp'] = pd.to_datetime(pd.Series(ts), unit='ms')"
   ]
  },
  {
   "cell_type": "code",
   "execution_count": null,
   "metadata": {
    "collapsed": false
   },
   "outputs": [],
   "source": []
  },
  {
   "cell_type": "code",
   "execution_count": 52,
   "metadata": {
    "collapsed": false
   },
   "outputs": [
    {
     "data": {
      "text/plain": [
       "{'Actions.Agree.Involved': {2331: False},\n",
       " 'Actions.Agree.Total': {2331: 2},\n",
       " 'Actions.Comment.Involved': {2331: False},\n",
       " 'Actions.Comment.NextLoad': {2331: 0},\n",
       " 'Actions.Comment.Total': {2331: 1},\n",
       " 'Actions.Disagree.Involved': {2331: False},\n",
       " 'Actions.Disagree.Total': {2331: 0},\n",
       " 'Actions.Report.Involved': {2331: False},\n",
       " 'Actions.Report.Total': {2331: 0},\n",
       " u'Body': {2331: u'Butcoin seems to be stabilising now...'},\n",
       " 'Cryptopian.Avatar': {2331: u'https://images.cryptocompare.com/1483/0f88a84e-d9e1-4834-a0eb-6cf4db4c36a6.png'},\n",
       " 'Cryptopian.Id': {2331: 1483},\n",
       " 'Cryptopian.Name': {2331: u'CryptoBond'},\n",
       " u'Edited': {2331: False},\n",
       " u'Id': {2331: 15920},\n",
       " u'Notification': {2331: False},\n",
       " u'Sticky': {2331: False},\n",
       " u'ThreadId': {2331: 1182},\n",
       " u'Timestamp': {2331: Timestamp('2016-10-24 19:48:18.063000')}}"
      ]
     },
     "execution_count": 52,
     "metadata": {},
     "output_type": "execute_result"
    }
   ],
   "source": [
    "ccompare.sample(1).to_dict()"
   ]
  },
  {
   "cell_type": "code",
   "execution_count": 54,
   "metadata": {
    "collapsed": false
   },
   "outputs": [],
   "source": [
    "ccompare.to_csv('posts_ccompare_raw.csv', encoding='utf-8')"
   ]
  },
  {
   "cell_type": "code",
   "execution_count": null,
   "metadata": {
    "collapsed": true
   },
   "outputs": [],
   "source": []
  }
 ],
 "metadata": {
  "kernelspec": {
   "display_name": "ekans_py27",
   "language": "python",
   "name": "ekans_py27"
  },
  "language_info": {
   "codemirror_mode": {
    "name": "ipython",
    "version": 2
   },
   "file_extension": ".py",
   "mimetype": "text/x-python",
   "name": "python",
   "nbconvert_exporter": "python",
   "pygments_lexer": "ipython2",
   "version": "2.7.12"
  }
 },
 "nbformat": 4,
 "nbformat_minor": 0
}
